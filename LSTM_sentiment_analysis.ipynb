{
 "cells": [
  {
   "cell_type": "code",
   "execution_count": null,
   "metadata": {},
   "outputs": [],
   "source": [
    "# this part is only for using GPU Version"
   ]
  },
  {
   "cell_type": "code",
   "execution_count": 1,
   "metadata": {},
   "outputs": [
    {
     "name": "stderr",
     "output_type": "stream",
     "text": [
      "Using TensorFlow backend.\n"
     ]
    }
   ],
   "source": [
    "import numpy as np\n",
    "# we need to fit model with sequence of tokens with specific length\n",
    "from keras.preprocessing.sequence import pad_sequences\n",
    "from keras.preprocessing.text import Tokenizer\n",
    "from keras.models import Sequential\n",
    "# normal LSTM/ GRU and version with Cuda\n",
    "from keras.layers import Dense, Embedding, GRU, LSTM, CuDNNGRU, CuDNNLSTM, Dropout\n",
    "from keras.datasets import imdb\n",
    "from keras.callbacks import TensorBoard, EarlyStopping, ModelCheckpoint\n",
    "from keras.optimizers import Adam"
   ]
  },
  {
   "cell_type": "code",
   "execution_count": 2,
   "metadata": {},
   "outputs": [],
   "source": [
    "# num_words: integer or None. Top most frequent words to consider. Any less frequent word will appear as oov_char \n",
    "# value in the sequence data\n",
    "num_words = 20000"
   ]
  },
  {
   "cell_type": "code",
   "execution_count": 3,
   "metadata": {},
   "outputs": [],
   "source": [
    "# Dataset of 25000 movies reviews from IMDB, labeled by sentiment (positive/negative). Reviews have been \n",
    "# preprocessed, and each review is encoded as a sequence of word indexes (integers)\n",
    "(X_train, Y_train), (X_test, Y_test) = imdb.load_data(num_words=num_words)"
   ]
  },
  {
   "cell_type": "code",
   "execution_count": 4,
   "metadata": {},
   "outputs": [
    {
     "name": "stdout",
     "output_type": "stream",
     "text": [
      "25000\n",
      "25000\n"
     ]
    }
   ],
   "source": [
    "print(len(X_train))\n",
    "print(len(X_test))"
   ]
  },
  {
   "cell_type": "code",
   "execution_count": 5,
   "metadata": {},
   "outputs": [
    {
     "name": "stdout",
     "output_type": "stream",
     "text": [
      "[1, 14, 22, 16, 43, 530, 973, 1622, 1385, 65, 458, 4468, 66, 3941, 4, 173, 36, 256, 5, 25, 100, 43, 838, 112, 50, 670, 2, 9, 35, 480, 284, 5, 150, 4, 172, 112, 167, 2, 336, 385, 39, 4, 172, 4536, 1111, 17, 546, 38, 13, 447, 4, 192, 50, 16, 6, 147, 2025, 19, 14, 22, 4, 1920, 4613, 469, 4, 22, 71, 87, 12, 16, 43, 530, 38, 76, 15, 13, 1247, 4, 22, 17, 515, 17, 12, 16, 626, 18, 19193, 5, 62, 386, 12, 8, 316, 8, 106, 5, 4, 2223, 5244, 16, 480, 66, 3785, 33, 4, 130, 12, 16, 38, 619, 5, 25, 124, 51, 36, 135, 48, 25, 1415, 33, 6, 22, 12, 215, 28, 77, 52, 5, 14, 407, 16, 82, 10311, 8, 4, 107, 117, 5952, 15, 256, 4, 2, 7, 3766, 5, 723, 36, 71, 43, 530, 476, 26, 400, 317, 46, 7, 4, 12118, 1029, 13, 104, 88, 4, 381, 15, 297, 98, 32, 2071, 56, 26, 141, 6, 194, 7486, 18, 4, 226, 22, 21, 134, 476, 26, 480, 5, 144, 30, 5535, 18, 51, 36, 28, 224, 92, 25, 104, 4, 226, 65, 16, 38, 1334, 88, 12, 16, 283, 5, 16, 4472, 113, 103, 32, 15, 16, 5345, 19, 178, 32]\n"
     ]
    }
   ],
   "source": [
    "print(X_train[0])"
   ]
  },
  {
   "cell_type": "code",
   "execution_count": 6,
   "metadata": {},
   "outputs": [],
   "source": [
    " # represents length of the sequence of tokens | int. Maximum sequence length. Any longer sequence will be truncated.\n",
    "max_len = 256\n",
    "# size of the vector that represents each word\n",
    "batch_size = 128\n",
    "n_epochs = 10"
   ]
  },
  {
   "cell_type": "code",
   "execution_count": null,
   "metadata": {},
   "outputs": [],
   "source": [
    "# The ratio of vocabulary vs embedding length to determine the size of other layers in a neural network doesn't \n",
    "# really matter. Word embeddings are always around 100 and 300 in length, longer embedding vectors don't add enough \n",
    "# information and smaller ones don't represent the semantics well enough. What matters more is the network architecture, \n",
    "# the algorithm(s) and the dataset size.\n",
    "\n",
    "# A simple way to understand this concept is that a bidirectional LSTM model with 50 neurons (nodes) followed by a fully \n",
    "# connected layer of 70 neurons will outperform a simple MLP of 1000 neurons (nodes) connected to a embedding layer \n",
    "# simply due to its architecture. Adding dropout will improve performance as well.\n",
    "\n",
    "# In addition, even if the vocabulary is just 300 words, using pre-trained embeddings will probably yield better results\n",
    "# than training the embeddings directly on the dataset. The same applies to data size, a dataset with more samples will\n",
    "# make a better classifier than a dataset with just a couple thousand samples.\n",
    "\n",
    "# In summary, it is preferable to try many architectures and cross-validate them (and/or ensemble them depending if you \n",
    "# have a large enough dataset) with the smallest number of neurons possible and then start building up in size, \n",
    "# depending on what computational resources you have and the speed of development you need. Large models slow down \n",
    "# development speed whereas small models speed it up. This goes whether your vocabulary is the size of common crawl or \n",
    "# just 300. As usual, try feature engineering (sentence length, special characters, etc.) and increase the dataset size\n",
    "# as doing so often helps in whatever task you're trying to predict.\n",
    "\n",
    "\n",
    "embedding_size = 10"
   ]
  },
  {
   "cell_type": "code",
   "execution_count": 7,
   "metadata": {},
   "outputs": [],
   "source": [
    "pad = 'pre' #'post'"
   ]
  },
  {
   "cell_type": "code",
   "execution_count": 8,
   "metadata": {},
   "outputs": [],
   "source": [
    "# set all sequences to the same size of 256, add zero to empty places\n",
    "X_train_pad = pad_sequences(X_train, maxlen=max_len, padding=pad, truncating=pad)\n",
    "X_test_pad = pad_sequences(X_test, maxlen=max_len, padding=pad, truncating=pad)"
   ]
  },
  {
   "cell_type": "code",
   "execution_count": 9,
   "metadata": {},
   "outputs": [
    {
     "data": {
      "text/plain": [
       "(25000, 256)"
      ]
     },
     "execution_count": 9,
     "metadata": {},
     "output_type": "execute_result"
    }
   ],
   "source": [
    "X_train_pad.shape"
   ]
  },
  {
   "cell_type": "code",
   "execution_count": 10,
   "metadata": {},
   "outputs": [
    {
     "data": {
      "text/plain": [
       "(25000,)"
      ]
     },
     "execution_count": 10,
     "metadata": {},
     "output_type": "execute_result"
    }
   ],
   "source": [
    "X_train.shape"
   ]
  },
  {
   "cell_type": "code",
   "execution_count": 11,
   "metadata": {},
   "outputs": [],
   "source": [
    "model = Sequential()"
   ]
  },
  {
   "cell_type": "code",
   "execution_count": 12,
   "metadata": {},
   "outputs": [
    {
     "name": "stdout",
     "output_type": "stream",
     "text": [
      "WARNING:tensorflow:From /home/babak/.local/lib/python3.7/site-packages/tensorflow/python/framework/op_def_library.py:263: colocate_with (from tensorflow.python.framework.ops) is deprecated and will be removed in a future version.\n",
      "Instructions for updating:\n",
      "Colocations handled automatically by placer.\n",
      "WARNING:tensorflow:From /home/babak/.local/lib/python3.7/site-packages/keras/backend/tensorflow_backend.py:3445: calling dropout (from tensorflow.python.ops.nn_ops) with keep_prob is deprecated and will be removed in a future version.\n",
      "Instructions for updating:\n",
      "Please use `rate` instead of `keep_prob`. Rate should be set to `rate = 1 - keep_prob`.\n"
     ]
    }
   ],
   "source": [
    "# add the embedding layer\n",
    "# input_dim : number of words\n",
    "# output_dim = size of vector for each word\n",
    "# input_length : length of each sequence (input review)\n",
    "# name = name of layer\n",
    "model.add(Embedding(input_dim=num_words,\n",
    "                   output_dim=embedding_size,\n",
    "                   input_length=max_len,\n",
    "                   name='layer_embedding'))\n",
    "\n",
    "model.add(Dropout(0.2))"
   ]
  },
  {
   "cell_type": "code",
   "execution_count": 13,
   "metadata": {},
   "outputs": [],
   "source": [
    "# lstm layer with 128 nodes (it doesnt need to be same as batch size)\n",
    "# automatic activation function is tanh for lstm\n",
    "model.add(LSTM(128, dropout=0.2, recurrent_dropout=0.2))\n",
    "\n",
    "# model.add(CuDNNLSTM(128, return_sequences=False))\n",
    "# model.add(Dropout(0.2))"
   ]
  },
  {
   "cell_type": "code",
   "execution_count": 14,
   "metadata": {},
   "outputs": [],
   "source": [
    "# we have binary classification so we use sigmoid for last layer\n",
    "model.add(Dense(1, activation='sigmoid', name='Classification'))"
   ]
  },
  {
   "cell_type": "code",
   "execution_count": 15,
   "metadata": {},
   "outputs": [
    {
     "name": "stdout",
     "output_type": "stream",
     "text": [
      "_________________________________________________________________\n",
      "Layer (type)                 Output Shape              Param #   \n",
      "=================================================================\n",
      "layer_embedding (Embedding)  (None, 256, 10)           200000    \n",
      "_________________________________________________________________\n",
      "dropout_1 (Dropout)          (None, 256, 10)           0         \n",
      "_________________________________________________________________\n",
      "lstm_1 (LSTM)                (None, 128)               71168     \n",
      "_________________________________________________________________\n",
      "Classification (Dense)       (None, 1)                 129       \n",
      "=================================================================\n",
      "Total params: 271,297\n",
      "Trainable params: 271,297\n",
      "Non-trainable params: 0\n",
      "_________________________________________________________________\n"
     ]
    }
   ],
   "source": [
    "model.summary()"
   ]
  },
  {
   "cell_type": "code",
   "execution_count": 16,
   "metadata": {},
   "outputs": [],
   "source": [
    "# optimizer can also be a hyperparameter\n",
    "model.compile(optimizer='rmsprop', loss='binary_crossentropy', metrics=['accuracy'])"
   ]
  },
  {
   "cell_type": "code",
   "execution_count": 17,
   "metadata": {},
   "outputs": [],
   "source": [
    "# checks to see if the loss is actually decreasing or not\n",
    "# if there is no improvements it will stop the process after 5 epochs\n",
    "callback_early_stopping = EarlyStopping(monitor='val_loss', patience=5, verbose=1)"
   ]
  },
  {
   "cell_type": "code",
   "execution_count": 18,
   "metadata": {},
   "outputs": [
    {
     "name": "stdout",
     "output_type": "stream",
     "text": [
      "WARNING:tensorflow:From /home/babak/.local/lib/python3.7/site-packages/tensorflow/python/ops/math_ops.py:3066: to_int32 (from tensorflow.python.ops.math_ops) is deprecated and will be removed in a future version.\n",
      "Instructions for updating:\n",
      "Use tf.cast instead.\n",
      "Train on 23750 samples, validate on 1250 samples\n",
      "Epoch 1/10\n",
      "23750/23750 [==============================] - 96s 4ms/step - loss: 0.6101 - acc: 0.6940 - val_loss: 0.4590 - val_acc: 0.7912\n",
      "Epoch 2/10\n",
      "23750/23750 [==============================] - 99s 4ms/step - loss: 0.4108 - acc: 0.8232 - val_loss: 0.3572 - val_acc: 0.8608\n",
      "Epoch 3/10\n",
      "23750/23750 [==============================] - 81s 3ms/step - loss: 0.3461 - acc: 0.8608 - val_loss: 0.3894 - val_acc: 0.8232\n",
      "Epoch 4/10\n",
      "23750/23750 [==============================] - 79s 3ms/step - loss: 0.3149 - acc: 0.8752 - val_loss: 0.6295 - val_acc: 0.8328\n",
      "Epoch 5/10\n",
      "23750/23750 [==============================] - 83s 3ms/step - loss: 0.2898 - acc: 0.8891 - val_loss: 0.3729 - val_acc: 0.8520\n",
      "Epoch 6/10\n",
      "23750/23750 [==============================] - 72s 3ms/step - loss: 0.2636 - acc: 0.8998 - val_loss: 0.3313 - val_acc: 0.8704\n",
      "Epoch 7/10\n",
      "23750/23750 [==============================] - 80s 3ms/step - loss: 0.2404 - acc: 0.9092 - val_loss: 0.3329 - val_acc: 0.8624\n",
      "Epoch 8/10\n",
      "23750/23750 [==============================] - 94s 4ms/step - loss: 0.2337 - acc: 0.9133 - val_loss: 0.3879 - val_acc: 0.8496\n",
      "Epoch 9/10\n",
      "23750/23750 [==============================] - 88s 4ms/step - loss: 0.2111 - acc: 0.9217 - val_loss: 0.3938 - val_acc: 0.8352\n",
      "Epoch 10/10\n",
      "23750/23750 [==============================] - 75s 3ms/step - loss: 0.2018 - acc: 0.9259 - val_loss: 0.3766 - val_acc: 0.8544\n",
      "CPU times: user 39min 58s, sys: 2min 29s, total: 42min 28s\n",
      "Wall time: 14min 8s\n"
     ]
    },
    {
     "data": {
      "text/plain": [
       "<keras.callbacks.History at 0x7f7153c3a8d0>"
      ]
     },
     "execution_count": 18,
     "metadata": {},
     "output_type": "execute_result"
    }
   ],
   "source": [
    "%%time\n",
    "# use 0.05 of train data for validation set\n",
    "model.fit(X_train_pad, Y_train, epochs=n_epochs, batch_size=batch_size, validation_split=0.05, callbacks=[callback_early_stopping])"
   ]
  },
  {
   "cell_type": "code",
   "execution_count": 20,
   "metadata": {
    "scrolled": true
   },
   "outputs": [
    {
     "name": "stdout",
     "output_type": "stream",
     "text": [
      "25000/25000 [==============================] - 27s 1ms/step\n",
      "CPU times: user 1min 11s, sys: 2.95 s, total: 1min 14s\n",
      "Wall time: 27.4 s\n"
     ]
    }
   ],
   "source": [
    "%%time\n",
    "\n",
    "eval_ = model.evaluate(X_test_pad, Y_test)"
   ]
  },
  {
   "cell_type": "code",
   "execution_count": 21,
   "metadata": {},
   "outputs": [
    {
     "name": "stdout",
     "output_type": "stream",
     "text": [
      "0.4016187694072723 0.84424\n"
     ]
    }
   ],
   "source": [
    "print(eval_[0], eval_[1]) # loss / accuracy"
   ]
  },
  {
   "cell_type": "code",
   "execution_count": null,
   "metadata": {},
   "outputs": [],
   "source": []
  }
 ],
 "metadata": {
  "kernelspec": {
   "display_name": "Python 3",
   "language": "python",
   "name": "python3"
  },
  "language_info": {
   "codemirror_mode": {
    "name": "ipython",
    "version": 3
   },
   "file_extension": ".py",
   "mimetype": "text/x-python",
   "name": "python",
   "nbconvert_exporter": "python",
   "pygments_lexer": "ipython3",
   "version": "3.6.8"
  }
 },
 "nbformat": 4,
 "nbformat_minor": 2
}
