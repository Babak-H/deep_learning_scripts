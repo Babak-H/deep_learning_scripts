{
 "cells": [
  {
   "cell_type": "markdown",
   "metadata": {},
   "source": [
    "A good first step when working with text is to split it into words.\n",
    "Words are called tokens and the process of splitting text into tokens is called tokenization.\n",
    "Keras provides the text_to_word_sequence() function that you can use to split text into a list of words\n",
    "By default, this function automatically does 3 things:\n",
    "    Splits words by space (split=” “).\n",
    "    Filters out punctuation (filters=’!”#$%&()*+,-./:;<=>?@[\\\\]^_`{|}~\\t\\n’).\n",
    "    Converts text to lowercase (lower=True)"
   ]
  },
  {
   "cell_type": "code",
   "execution_count": 4,
   "metadata": {},
   "outputs": [
    {
     "name": "stdout",
     "output_type": "stream",
     "text": [
      "['the', 'quick', 'brown', 'fox', 'jumped', 'over', 'the', 'lazy', 'dog']\n"
     ]
    }
   ],
   "source": [
    "from keras.preprocessing.text import text_to_word_sequence\n",
    "text = 'the quick brown fox jumped over the lazy dog'\n",
    "# tokenize this document\n",
    "result = text_to_word_sequence(text)\n",
    "print(result)"
   ]
  },
  {
   "cell_type": "markdown",
   "metadata": {},
   "source": [
    "Encoding with one_hot\n",
    "It is popular to represent a document as a sequence of integer values, where each word in the \n",
    "document is represented as a unique integer\n",
    "Keras provides the one_hot() function that you can use to tokenize and integer encode a text \n",
    "document in one step. The name suggests that it will create a one-hot encoding of the document, \n",
    "which is NOT the case.\n",
    "\n",
    "Instead, the function is a wrapper for the hashing_trick() function. The function returns an \n",
    "integer encoded version of the document. The use of a hash function means that there may be \n",
    "collisions and not all words will be assigned unique integer values.\n",
    "\n",
    "As with the text_to_word_sequence() function in the previous section, the one_hot() function will \n",
    "make the text lower case, filter out punctuation, and split words based on white space.\n"
   ]
  },
  {
   "cell_type": "code",
   "execution_count": 6,
   "metadata": {},
   "outputs": [
    {
     "name": "stdout",
     "output_type": "stream",
     "text": [
      "8\n",
      "[9, 2, 7, 6, 7, 5, 9, 8, 9]\n"
     ]
    }
   ],
   "source": [
    "from keras.preprocessing.text import one_hot, text_to_word_sequence\n",
    "text = 'The quick brown fox jumped over the lazy dog.'\n",
    "# estimate the size of vocabulary\n",
    "words = set(text_to_word_sequence(text))\n",
    "vocab_size = len(words)\n",
    "print(vocab_size)\n",
    "# integer encode the document\n",
    "# The size of the vocabulary defines the hashing space from which words are hashed. Ideally, this \n",
    "# should be larger than the vocabulary by some percentage (perhaps 25%) to minimize the number of \n",
    "# collisions\n",
    "result = one_hot(text, round(vocab_size*1.3))\n",
    "print(result)\n"
   ]
  },
  {
   "cell_type": "markdown",
   "metadata": {},
   "source": [
    "A limitation of integer and count base encodings is that they must maintain a vocabulary of words \n",
    "and their mapping to integers.\n",
    "\n",
    "An alternative to this approach is to use a one-way hash function to convert words to integers. \n",
    "This avoids the need to keep track of a vocabulary, which is faster and requires less memory.\n",
    "\n",
    "Keras provides the hashing_trick() function that tokenizes and then integer encodes the document,\n",
    "just like the one_hot() function. It provides more flexibility, allowing you to specify the hash \n",
    "function as either ‘hash’ (the default) or other hash functions such as the built in md5 function \n",
    "or your own function."
   ]
  },
  {
   "cell_type": "code",
   "execution_count": 7,
   "metadata": {},
   "outputs": [
    {
     "name": "stdout",
     "output_type": "stream",
     "text": [
      "8\n",
      "[6, 4, 1, 2, 7, 5, 6, 2, 6]\n"
     ]
    }
   ],
   "source": [
    "from keras.preprocessing.text import hashing_trick, text_to_word_sequence\n",
    "text = 'The quick brown fox jumped over the lazy dog.'\n",
    "# estimate the size of the vocabulary\n",
    "words = set(text_to_word_sequence(text))\n",
    "vocab_size = len(words)\n",
    "print(vocab_size)\n",
    "# integer encode the document\n",
    "result = hashing_trick(text, round(vocab_size*1.3), hash_function='md5')\n",
    "print(result)\n",
    "# We can see that the use of a different hash function results in consistent, but different \n",
    "# integers for words as the one_hot() function in the previous section"
   ]
  },
  {
   "cell_type": "markdown",
   "metadata": {},
   "source": [
    "Keras provides a more sophisticated API for preparing text that can be fit and reused to prepare \n",
    "multiple text documents. This may be the preferred approach for large projects.\n",
    "\n",
    "Keras provides the Tokenizer class for preparing text documents for deep learning. The Tokenizer\n",
    "must be constructed and then fit on either raw text documents or integer encoded text documents\n",
    "\n",
    "Once fit, the Tokenizer provides 4 attributes that you can use to query what has been learned about\n",
    "your documents:\n",
    "    \n",
    "    word_counts: A dictionary of words and their counts.\n",
    "    word_docs: A dictionary of words and how many documents each appeared in.\n",
    "    word_index: A dictionary of words and their uniquely assigned integers.\n",
    "    document_count:An integer count of the total number of documents that were used to fit the Tokenizer.\n",
    "\n",
    "Once the Tokenizer has been fit on training data, it can be used to encode documents in the \n",
    "train or test datasets.\n",
    "The texts_to_matrix() function on the Tokenizer can be used to create one vector per document \n",
    "provided per input. The length of the vectors is the total size of the vocabulary\n",
    "This function provides a suite of standard bag-of-words model text encoding schemes that can be \n",
    "provided via a mode argument to the function.\n",
    "\n",
    "The modes available include:\n",
    "\n",
    "    ‘binary‘: Whether or not each word is present in the document. This is the default.\n",
    "    ‘count‘: The count of each word in the document.\n",
    "    ‘tfidf‘: The Text Frequency-Inverse DocumentFrequency (TF-IDF) scoring for \n",
    "    each word in the  document.\n",
    "    ‘freq‘: The frequency of each word as a ratio of words within each document.\n"
   ]
  },
  {
   "cell_type": "code",
   "execution_count": 8,
   "metadata": {},
   "outputs": [],
   "source": [
    "from keras.preprocessing.text import Tokenizer\n",
    "# define 5 documents\n",
    "docs = ['Well done!','Good work','Great effort','nice work','Excellent!']\n",
    "\n",
    "# create the tokenizer\n",
    "t = Tokenizer()\n",
    "# fit the tokenizer on the documents\n",
    "t.fit_on_texts(docs)"
   ]
  },
  {
   "cell_type": "code",
   "execution_count": 12,
   "metadata": {},
   "outputs": [
    {
     "name": "stdout",
     "output_type": "stream",
     "text": [
      "OrderedDict([('well', 1), ('done', 1), ('good', 1), ('work', 2), ('great', 1), ('effort', 1), ('nice', 1), ('excellent', 1)])\n",
      "5\n",
      "{'work': 1, 'well': 2, 'done': 3, 'good': 4, 'great': 5, 'effort': 6, 'nice': 7, 'excellent': 8}\n",
      "defaultdict(<class 'int'>, {'well': 1, 'done': 1, 'work': 2, 'good': 1, 'great': 1, 'effort': 1, 'nice': 1, 'excellent': 1})\n"
     ]
    }
   ],
   "source": [
    "# summarize what was learned\n",
    "print(t.word_counts)\n",
    "print(t.document_count)\n",
    "print(t.word_index)\n",
    "print(t.word_docs)"
   ]
  },
  {
   "cell_type": "code",
   "execution_count": 13,
   "metadata": {},
   "outputs": [
    {
     "name": "stdout",
     "output_type": "stream",
     "text": [
      "OrderedDict([('well', 1), ('done', 1), ('good', 1), ('work', 2), ('great', 1), ('effort', 1), ('nice', 1), ('excellent', 1)])\n",
      "5\n",
      "{'work': 1, 'well': 2, 'done': 3, 'good': 4, 'great': 5, 'effort': 6, 'nice': 7, 'excellent': 8}\n",
      "defaultdict(<class 'int'>, {'well': 1, 'done': 1, 'work': 2, 'good': 1, 'great': 1, 'effort': 1, 'nice': 1, 'excellent': 1})\n",
      "[[0. 0. 1. 1. 0. 0. 0. 0. 0.]\n",
      " [0. 1. 0. 0. 1. 0. 0. 0. 0.]\n",
      " [0. 0. 0. 0. 0. 1. 1. 0. 0.]\n",
      " [0. 1. 0. 0. 0. 0. 0. 1. 0.]\n",
      " [0. 0. 0. 0. 0. 0. 0. 0. 1.]]\n"
     ]
    }
   ],
   "source": [
    "# define 5 documents\n",
    "docs = ['Well done!','Good work','Great effort','nice work','Excellent!']\n",
    "# create the tokenizer\n",
    "t = Tokenizer()\n",
    "# fit the tokenizer on the documents\n",
    "t.fit_on_texts(docs)\n",
    "# summarize what was learned\n",
    "print(t.word_counts)\n",
    "print(t.document_count)\n",
    "print(t.word_index)\n",
    "print(t.word_docs)\n",
    "# integer encode documents\n",
    "encoded_docs = t.texts_to_matrix(docs, mode='count')\n",
    "print(encoded_docs)"
   ]
  },
  {
   "cell_type": "code",
   "execution_count": null,
   "metadata": {},
   "outputs": [],
   "source": []
  }
 ],
 "metadata": {
  "kernelspec": {
   "display_name": "Python 3",
   "language": "python",
   "name": "python3"
  },
  "language_info": {
   "codemirror_mode": {
    "name": "ipython",
    "version": 3
   },
   "file_extension": ".py",
   "mimetype": "text/x-python",
   "name": "python",
   "nbconvert_exporter": "python",
   "pygments_lexer": "ipython3",
   "version": "3.6.8"
  }
 },
 "nbformat": 4,
 "nbformat_minor": 2
}
