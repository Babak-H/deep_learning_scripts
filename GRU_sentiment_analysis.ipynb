{
 "cells": [
  {
   "cell_type": "code",
   "execution_count": 1,
   "metadata": {},
   "outputs": [],
   "source": [
    "# this part is only for using GPU Version"
   ]
  },
  {
   "cell_type": "code",
   "execution_count": 1,
   "metadata": {},
   "outputs": [
    {
     "name": "stderr",
     "output_type": "stream",
     "text": [
      "Using TensorFlow backend.\n"
     ]
    }
   ],
   "source": [
    "import numpy as np\n",
    "# we need to fit model with sequence of tokens with specific length\n",
    "from keras.preprocessing.sequence import pad_sequences\n",
    "from keras.preprocessing.text import Tokenizer\n",
    "from keras.models import Sequential\n",
    "# normal LSTM/ GRU and version with Cuda\n",
    "from keras.layers import Dense, Embedding, GRU, LSTM, CuDNNGRU, CuDNNLSTM, Dropout\n",
    "from keras.datasets import imdb\n",
    "from keras.callbacks import TensorBoard, EarlyStopping, ModelCheckpoint\n",
    "from keras.optimizers import Adam"
   ]
  },
  {
   "cell_type": "code",
   "execution_count": 2,
   "metadata": {},
   "outputs": [],
   "source": [
    "num_words = 20000"
   ]
  },
  {
   "cell_type": "code",
   "execution_count": 3,
   "metadata": {},
   "outputs": [],
   "source": [
    "(X_train, Y_train), (X_test, Y_test) = imdb.load_data(num_words=num_words)"
   ]
  },
  {
   "cell_type": "code",
   "execution_count": 4,
   "metadata": {},
   "outputs": [],
   "source": [
    "max_len = 256\n",
    "embedding_size = 10\n",
    "batch_size = 128\n",
    "n_epochs = 10"
   ]
  },
  {
   "cell_type": "code",
   "execution_count": 5,
   "metadata": {},
   "outputs": [],
   "source": [
    "pad = 'pre' #'post'\n",
    "X_train_pad = pad_sequences(X_train, maxlen=max_len, padding=pad, truncating=pad)\n",
    "X_test_pad = pad_sequences(X_test, maxlen=max_len, padding=pad, truncating=pad)"
   ]
  },
  {
   "cell_type": "code",
   "execution_count": 6,
   "metadata": {},
   "outputs": [],
   "source": [
    "model_GRU = Sequential() # GRU Model"
   ]
  },
  {
   "cell_type": "code",
   "execution_count": 7,
   "metadata": {},
   "outputs": [
    {
     "name": "stdout",
     "output_type": "stream",
     "text": [
      "WARNING:tensorflow:From /home/babak/.local/lib/python3.7/site-packages/tensorflow/python/framework/op_def_library.py:263: colocate_with (from tensorflow.python.framework.ops) is deprecated and will be removed in a future version.\n",
      "Instructions for updating:\n",
      "Colocations handled automatically by placer.\n"
     ]
    }
   ],
   "source": [
    "model_GRU.add(Embedding(input_dim=num_words, output_dim=embedding_size, input_length=max_len, name='layer_embedding'))"
   ]
  },
  {
   "cell_type": "code",
   "execution_count": 8,
   "metadata": {},
   "outputs": [],
   "source": [
    "model_GRU.add(GRU(units=16, return_sequences=True))"
   ]
  },
  {
   "cell_type": "code",
   "execution_count": 9,
   "metadata": {},
   "outputs": [],
   "source": [
    "model_GRU.add(GRU(units=8, return_sequences=True))"
   ]
  },
  {
   "cell_type": "code",
   "execution_count": 11,
   "metadata": {},
   "outputs": [],
   "source": [
    "model_GRU.add(GRU(units=4, return_sequences=False))"
   ]
  },
  {
   "cell_type": "code",
   "execution_count": 12,
   "metadata": {},
   "outputs": [],
   "source": [
    "model_GRU.add(Dense(1, activation='sigmoid'))"
   ]
  },
  {
   "cell_type": "code",
   "execution_count": 13,
   "metadata": {},
   "outputs": [
    {
     "name": "stdout",
     "output_type": "stream",
     "text": [
      "_________________________________________________________________\n",
      "Layer (type)                 Output Shape              Param #   \n",
      "=================================================================\n",
      "layer_embedding (Embedding)  (None, 256, 10)           200000    \n",
      "_________________________________________________________________\n",
      "gru_1 (GRU)                  (None, 256, 16)           1296      \n",
      "_________________________________________________________________\n",
      "gru_2 (GRU)                  (None, 256, 8)            600       \n",
      "_________________________________________________________________\n",
      "gru_3 (GRU)                  (None, 4)                 156       \n",
      "_________________________________________________________________\n",
      "dense_1 (Dense)              (None, 1)                 5         \n",
      "=================================================================\n",
      "Total params: 202,057\n",
      "Trainable params: 202,057\n",
      "Non-trainable params: 0\n",
      "_________________________________________________________________\n"
     ]
    }
   ],
   "source": [
    "model_GRU.summary()"
   ]
  },
  {
   "cell_type": "code",
   "execution_count": 14,
   "metadata": {},
   "outputs": [],
   "source": [
    "model_GRU.compile(loss='binary_crossentropy', optimizer='rmsprop', metrics=['accuracy'])"
   ]
  },
  {
   "cell_type": "code",
   "execution_count": 15,
   "metadata": {},
   "outputs": [
    {
     "name": "stdout",
     "output_type": "stream",
     "text": [
      "WARNING:tensorflow:From /home/babak/.local/lib/python3.7/site-packages/tensorflow/python/ops/math_ops.py:3066: to_int32 (from tensorflow.python.ops.math_ops) is deprecated and will be removed in a future version.\n",
      "Instructions for updating:\n",
      "Use tf.cast instead.\n",
      "Train on 23750 samples, validate on 1250 samples\n",
      "Epoch 1/10\n",
      "23750/23750 [==============================] - 64s 3ms/step - loss: 0.5479 - acc: 0.7127 - val_loss: 0.3996 - val_acc: 0.8248\n",
      "Epoch 2/10\n",
      "23750/23750 [==============================] - 44s 2ms/step - loss: 0.3078 - acc: 0.8764 - val_loss: 0.3697 - val_acc: 0.8480\n",
      "Epoch 3/10\n",
      "23750/23750 [==============================] - 55s 2ms/step - loss: 0.2367 - acc: 0.9109 - val_loss: 0.3065 - val_acc: 0.8752\n",
      "Epoch 4/10\n",
      "23750/23750 [==============================] - 39s 2ms/step - loss: 0.1963 - acc: 0.9290 - val_loss: 0.3162 - val_acc: 0.8792\n",
      "Epoch 5/10\n",
      "23750/23750 [==============================] - 39s 2ms/step - loss: 0.1638 - acc: 0.9429 - val_loss: 0.3123 - val_acc: 0.8856\n",
      "Epoch 6/10\n",
      "23750/23750 [==============================] - 39s 2ms/step - loss: 0.1414 - acc: 0.9522 - val_loss: 0.3573 - val_acc: 0.8784\n",
      "Epoch 7/10\n",
      "23750/23750 [==============================] - 51s 2ms/step - loss: 0.1261 - acc: 0.9571 - val_loss: 0.3457 - val_acc: 0.8824\n",
      "Epoch 8/10\n",
      "23750/23750 [==============================] - 48s 2ms/step - loss: 0.1103 - acc: 0.9630 - val_loss: 0.3626 - val_acc: 0.8680\n",
      "Epoch 9/10\n",
      "23750/23750 [==============================] - 53s 2ms/step - loss: 0.1008 - acc: 0.9664 - val_loss: 0.3747 - val_acc: 0.8864\n",
      "Epoch 10/10\n",
      "23750/23750 [==============================] - 57s 2ms/step - loss: 0.0897 - acc: 0.9705 - val_loss: 0.3688 - val_acc: 0.8736\n",
      "CPU times: user 17min 7s, sys: 2min 12s, total: 19min 20s\n",
      "Wall time: 8min 10s\n"
     ]
    },
    {
     "data": {
      "text/plain": [
       "<keras.callbacks.History at 0x7fe1a0221198>"
      ]
     },
     "execution_count": 15,
     "metadata": {},
     "output_type": "execute_result"
    }
   ],
   "source": [
    "%%time\n",
    "model_GRU.fit(X_train_pad, Y_train, validation_split=0.05, epochs=n_epochs, batch_size=batch_size)"
   ]
  },
  {
   "cell_type": "code",
   "execution_count": 16,
   "metadata": {},
   "outputs": [
    {
     "name": "stdout",
     "output_type": "stream",
     "text": [
      "25000/25000 [==============================] - 40s 2ms/step\n",
      "CPU times: user 1min 11s, sys: 11.4 s, total: 1min 23s\n",
      "Wall time: 40.4 s\n"
     ]
    }
   ],
   "source": [
    "%%time\n",
    "eval_GRU = model_GRU.evaluate(X_test_pad, Y_test)"
   ]
  },
  {
   "cell_type": "code",
   "execution_count": 18,
   "metadata": {},
   "outputs": [
    {
     "name": "stdout",
     "output_type": "stream",
     "text": [
      "0.4119863118982315 0.8526\n"
     ]
    }
   ],
   "source": [
    "print(eval_GRU[0], eval_GRU[1]) # loss / accuracy"
   ]
  },
  {
   "cell_type": "code",
   "execution_count": null,
   "metadata": {},
   "outputs": [],
   "source": []
  }
 ],
 "metadata": {
  "kernelspec": {
   "display_name": "Python 3",
   "language": "python",
   "name": "python3"
  },
  "language_info": {
   "codemirror_mode": {
    "name": "ipython",
    "version": 3
   },
   "file_extension": ".py",
   "mimetype": "text/x-python",
   "name": "python",
   "nbconvert_exporter": "python",
   "pygments_lexer": "ipython3",
   "version": "3.7.2"
  }
 },
 "nbformat": 4,
 "nbformat_minor": 2
}
