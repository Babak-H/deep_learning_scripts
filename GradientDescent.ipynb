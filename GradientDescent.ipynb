{
 "cells": [
  {
   "cell_type": "code",
   "execution_count": 1,
   "metadata": {},
   "outputs": [],
   "source": [
    "import numpy as np\n",
    "import matplotlib.pyplot as plt\n",
    "%matplotlib inline"
   ]
  },
  {
   "cell_type": "code",
   "execution_count": 2,
   "metadata": {},
   "outputs": [],
   "source": [
    "def f(x):\n",
    "    y= x**2 - 3.5*x + 1.5\n",
    "    return y"
   ]
  },
  {
   "cell_type": "code",
   "execution_count": 3,
   "metadata": {},
   "outputs": [],
   "source": [
    "x = np.arange(-1,5, 0.01)\n",
    "y = f(x)"
   ]
  },
  {
   "cell_type": "code",
   "execution_count": 4,
   "metadata": {},
   "outputs": [
    {
     "data": {
      "text/plain": [
       "Text(0,0.5,'$y$')"
      ]
     },
     "execution_count": 4,
     "metadata": {},
     "output_type": "execute_result"
    },
    {
     "data": {
      "image/png": "[encoded data removed]",
      "text/plain": [
       "<Figure size 432x288 with 1 Axes>"
      ]
     },
     "metadata": {
      "needs_background": "light"
     },
     "output_type": "display_data"
    }
   ],
   "source": [
    "fig, ax = plt.subplots()\n",
    "\n",
    "ax.plot(x, y, lw=0.9, color= 'k')\n",
    "ax.set_xlim([min(x), max(x)])\n",
    "ax.set_ylim([-3, max(y)+1])\n",
    "ax.set_xlabel(r'$x$')\n",
    "ax.set_ylabel(r'$y$')\n"
   ]
  },
  {
   "cell_type": "code",
   "execution_count": 5,
   "metadata": {},
   "outputs": [],
   "source": [
    "x_ini = -0.8 # initial x\n",
    "lr = 0.15 # learning rate\n",
    "epoch = 10 # number of epochs"
   ]
  },
  {
   "cell_type": "code",
   "execution_count": 7,
   "metadata": {},
   "outputs": [],
   "source": [
    "def gradient_descent(prev_x, lr, epoch):\n",
    "    # lists to save x,y during the gradient descent process\n",
    "    x_gd = []\n",
    "    y_gd = []\n",
    "    # do this for initial x, y\n",
    "    x_gd.append(prev_x)\n",
    "    y_gd.append(f(prev_x))\n",
    "    \n",
    "    for i in range(epoch):\n",
    "        current_x = prev_x - lr*(2*prev_x - 3.5)\n",
    "        \n",
    "        x_gd.append(current_x)\n",
    "        y_gd.append(f(current_x))\n",
    "        \n",
    "        prev_x = current_x\n",
    "        \n",
    "    return x_gd, y_gd"
   ]
  },
  {
   "cell_type": "code",
   "execution_count": 8,
   "metadata": {},
   "outputs": [],
   "source": [
    "x_gd, y_gd = gradient_descent(x_ini, lr, epoch)"
   ]
  },
  {
   "cell_type": "code",
   "execution_count": 9,
   "metadata": {},
   "outputs": [
    {
     "data": {
      "text/plain": [
       "[-0.8,\n",
       " -0.03500000000000014,\n",
       " 0.5004999999999998,\n",
       " 0.8753499999999999,\n",
       " 1.1377449999999998,\n",
       " 1.3214214999999998,\n",
       " 1.4499950499999998,\n",
       " 1.5399965349999998,\n",
       " 1.6029975744999998,\n",
       " 1.6470983021499999,\n",
       " 1.677968811505]"
      ]
     },
     "execution_count": 9,
     "metadata": {},
     "output_type": "execute_result"
    }
   ],
   "source": [
    "x_gd"
   ]
  },
  {
   "cell_type": "code",
   "execution_count": 10,
   "metadata": {},
   "outputs": [
    {
     "data": {
      "image/png": "[encoded data removed]",
      "text/plain": [
       "<Figure size 432x288 with 1 Axes>"
      ]
     },
     "metadata": {
      "needs_background": "light"
     },
     "output_type": "display_data"
    }
   ],
   "source": [
    "fig, ax = plt.subplots()\n",
    "ax.plot(x, y, lw= 0.9, color = 'k')\n",
    "ax.set_xlim([min(x), max(x)])\n",
    "ax.set_ylim([-3, max(y)+1])\n",
    "ax.scatter(x_gd, y_gd, c = 'b')\n",
    "plt.show()"
   ]
  },
  {
   "cell_type": "code",
   "execution_count": null,
   "metadata": {},
   "outputs": [],
   "source": []
  }
 ],
 "metadata": {
  "kernelspec": {
   "display_name": "Python 3",
   "language": "python",
   "name": "python3"
  },
  "language_info": {
   "codemirror_mode": {
    "name": "ipython",
    "version": 3
   },
   "file_extension": ".py",
   "mimetype": "text/x-python",
   "name": "python",
   "nbconvert_exporter": "python",
   "pygments_lexer": "ipython3",
   "version": "3.7.2"
  }
 },
 "nbformat": 4,
 "nbformat_minor": 2
}
