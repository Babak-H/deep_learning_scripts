{
 "cells": [
  {
   "cell_type": "code",
   "execution_count": 5,
   "metadata": {},
   "outputs": [],
   "source": [
    "from gensim.models import Word2Vec\n",
    "# both TSNE / PCA do dimensionality reduction\n",
    "from sklearn.manifold import TSNE\n",
    "from sklearn.decomposition import PCA\n",
    "import matplotlib.pyplot as plt\n",
    "import numpy as np"
   ]
  },
  {
   "cell_type": "code",
   "execution_count": 6,
   "metadata": {},
   "outputs": [],
   "source": [
    "sentences = [['this', 'is', 'a', 'very', 'good', 'NLP', 'course'],\n",
    "            ['this', 'is', 'a', 'NLP', 'course'],\n",
    "            ['Word2Vec','NLP','text'],\n",
    "            ['word', 'embedding','NLP'],\n",
    "            ['NLP','course','Word2Vec','embedding']]"
   ]
  },
  {
   "cell_type": "code",
   "execution_count": 7,
   "metadata": {},
   "outputs": [],
   "source": [
    "model = Word2Vec(sentences, min_count=1) # create the word2vec model based on our vocab"
   ]
  },
  {
   "cell_type": "code",
   "execution_count": 8,
   "metadata": {},
   "outputs": [
    {
     "name": "stdout",
     "output_type": "stream",
     "text": [
      "Word2Vec(vocab=11, size=100, alpha=0.025)\n"
     ]
    }
   ],
   "source": [
    "print(model) # each word is an 100 in length vector"
   ]
  },
  {
   "cell_type": "code",
   "execution_count": 9,
   "metadata": {},
   "outputs": [
    {
     "name": "stdout",
     "output_type": "stream",
     "text": [
      "['this', 'is', 'a', 'very', 'good', 'NLP', 'course', 'Word2Vec', 'text', 'word', 'embedding']\n"
     ]
    }
   ],
   "source": [
    "print(list(model.wv.vocab))"
   ]
  },
  {
   "cell_type": "code",
   "execution_count": 11,
   "metadata": {},
   "outputs": [
    {
     "name": "stdout",
     "output_type": "stream",
     "text": [
      "[-3.3355679e-03 -4.0251671e-04  4.4012093e-03  1.8692019e-03\n",
      " -3.2919780e-03 -3.5145909e-03  4.4524699e-04 -2.1825434e-05\n",
      " -5.0153548e-04  3.0586133e-03  4.1004708e-03  1.4938911e-03\n",
      "  2.6218249e-03 -2.5638104e-03 -3.7240034e-03 -3.5469034e-03\n",
      " -1.3101952e-03 -6.9961541e-05 -8.5494580e-04 -4.0686275e-03\n",
      " -7.3654484e-04 -2.9474094e-03 -1.3172880e-03 -2.7598492e-03\n",
      "  2.7344816e-03 -4.6310211e-03 -3.5621163e-03  2.0467241e-03\n",
      "  1.3394436e-03  2.2245548e-03  2.8741469e-03  7.0528295e-05\n",
      " -2.3414299e-03  1.0944994e-03  1.2759401e-03  3.8099475e-03\n",
      " -3.7466572e-03 -4.4363183e-03  4.4239764e-03 -1.4681310e-03\n",
      " -4.6419860e-03 -1.8039530e-03 -1.0634732e-03 -2.7681624e-03\n",
      " -3.7542051e-03  4.0769582e-03  3.5840820e-03 -5.6939089e-04\n",
      " -4.7341296e-03  4.5639174e-03  4.1138981e-03 -1.9062455e-03\n",
      "  4.6095462e-03 -1.7798723e-04 -3.4684273e-03 -2.1166469e-03\n",
      " -3.2133623e-03 -4.4018263e-03 -2.2905642e-05 -1.5948927e-03\n",
      " -3.8338671e-03 -9.3041657e-04  3.3846342e-03 -2.5558044e-04\n",
      "  2.7070881e-03  3.7862032e-03 -1.1357724e-03  2.5516397e-03\n",
      " -3.3399381e-03  8.9912117e-04 -1.7054825e-03  2.3644655e-03\n",
      " -2.0915142e-03  3.3974843e-03  4.0846588e-03 -4.1866559e-03\n",
      " -3.9697331e-03  1.0660883e-03 -3.3159803e-03  1.5127754e-03\n",
      "  4.6812803e-03 -2.0798545e-03  4.4519352e-03 -1.9317524e-03\n",
      " -3.6894155e-03  2.5650102e-03 -1.8006982e-03  2.3548708e-03\n",
      " -2.1716119e-03 -2.5279531e-03 -4.6465350e-03  1.5174299e-03\n",
      "  3.2711723e-03  2.5045281e-04  3.9611300e-03  3.0162223e-03\n",
      "  1.0267332e-03 -2.3163597e-03 -1.4364436e-04  3.5480079e-03]\n",
      "100\n"
     ]
    },
    {
     "name": "stderr",
     "output_type": "stream",
     "text": [
      "/home/babak/anaconda3/lib/python3.7/site-packages/ipykernel_launcher.py:1: DeprecationWarning: Call to deprecated `__getitem__` (Method will be removed in 4.0.0, use self.wv.__getitem__() instead).\n",
      "  \"\"\"Entry point for launching an IPython kernel.\n",
      "/home/babak/anaconda3/lib/python3.7/site-packages/ipykernel_launcher.py:2: DeprecationWarning: Call to deprecated `__getitem__` (Method will be removed in 4.0.0, use self.wv.__getitem__() instead).\n",
      "  \n"
     ]
    }
   ],
   "source": [
    "print(model['NLP'])\n",
    "print(len(model['NLP']))"
   ]
  },
  {
   "cell_type": "code",
   "execution_count": 13,
   "metadata": {},
   "outputs": [],
   "source": [
    "model.save('word_embeddings_model.bin') # save the model"
   ]
  },
  {
   "cell_type": "code",
   "execution_count": 14,
   "metadata": {},
   "outputs": [
    {
     "name": "stdout",
     "output_type": "stream",
     "text": [
      "Word2Vec(vocab=11, size=100, alpha=0.025)\n"
     ]
    }
   ],
   "source": [
    "new_model = Word2Vec.load('word_embeddings_model.bin') # load the model\n",
    "print(new_model)"
   ]
  },
  {
   "cell_type": "code",
   "execution_count": 15,
   "metadata": {},
   "outputs": [
    {
     "data": {
      "text/plain": [
       "{'this': <gensim.models.keyedvectors.Vocab at 0x7f5a9bc8b978>,\n",
       " 'is': <gensim.models.keyedvectors.Vocab at 0x7f5a9bc8b5f8>,\n",
       " 'a': <gensim.models.keyedvectors.Vocab at 0x7f5a9bc8b470>,\n",
       " 'very': <gensim.models.keyedvectors.Vocab at 0x7f5a9bc8bbe0>,\n",
       " 'good': <gensim.models.keyedvectors.Vocab at 0x7f5a9bc8b198>,\n",
       " 'NLP': <gensim.models.keyedvectors.Vocab at 0x7f5a9bc8b240>,\n",
       " 'course': <gensim.models.keyedvectors.Vocab at 0x7f5a9bc8bc50>,\n",
       " 'Word2Vec': <gensim.models.keyedvectors.Vocab at 0x7f5a9bc8bc18>,\n",
       " 'text': <gensim.models.keyedvectors.Vocab at 0x7f5a9bc8bf28>,\n",
       " 'word': <gensim.models.keyedvectors.Vocab at 0x7f5a9bc8bf60>,\n",
       " 'embedding': <gensim.models.keyedvectors.Vocab at 0x7f5a9bc8be80>}"
      ]
     },
     "execution_count": 15,
     "metadata": {},
     "output_type": "execute_result"
    }
   ],
   "source": [
    "model.wv.vocab  # it is a dictionary with each word and its related vector"
   ]
  },
  {
   "cell_type": "code",
   "execution_count": 17,
   "metadata": {},
   "outputs": [
    {
     "name": "stdout",
     "output_type": "stream",
     "text": [
      "(11, 100)\n"
     ]
    },
    {
     "name": "stderr",
     "output_type": "stream",
     "text": [
      "/home/babak/anaconda3/lib/python3.7/site-packages/ipykernel_launcher.py:1: DeprecationWarning: Call to deprecated `__getitem__` (Method will be removed in 4.0.0, use self.wv.__getitem__() instead).\n",
      "  \"\"\"Entry point for launching an IPython kernel.\n"
     ]
    }
   ],
   "source": [
    "X = model[model.wv.vocab]\n",
    "print(X.shape)"
   ]
  },
  {
   "cell_type": "code",
   "execution_count": 19,
   "metadata": {},
   "outputs": [],
   "source": [
    "# dimentionality Reduction:\n",
    "pca = PCA(n_components=2)\n",
    "result = pca.fit_transform(X)"
   ]
  },
  {
   "cell_type": "code",
   "execution_count": 22,
   "metadata": {},
   "outputs": [
    {
     "data": {
      "image/png": "[encoded data removed]",
      "text/plain": [
       "<Figure size 432x288 with 1 Axes>"
      ]
     },
     "metadata": {
      "needs_background": "light"
     },
     "output_type": "display_data"
    }
   ],
   "source": [
    "# since the corpus is too small we won't get good results\n",
    "\n",
    "plt.scatter(result[:,0], result[:,1])\n",
    "words = list(model.wv.vocab)\n",
    "for i, word in enumerate(words):\n",
    "                # text to show  # location of the text \n",
    "    plt.annotate(word, xy=(result[i, 0], result[i, 1]))\n",
    "plt.show()"
   ]
  },
  {
   "cell_type": "code",
   "execution_count": null,
   "metadata": {},
   "outputs": [],
   "source": []
  }
 ],
 "metadata": {
  "kernelspec": {
   "display_name": "Python 3",
   "language": "python",
   "name": "python3"
  },
  "language_info": {
   "codemirror_mode": {
    "name": "ipython",
    "version": 3
   },
   "file_extension": ".py",
   "mimetype": "text/x-python",
   "name": "python",
   "nbconvert_exporter": "python",
   "pygments_lexer": "ipython3",
   "version": "3.7.2"
  }
 },
 "nbformat": 4,
 "nbformat_minor": 2
}
